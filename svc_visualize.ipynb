{
 "cells": [
  {
   "cell_type": "code",
   "execution_count": 1,
   "metadata": {},
   "outputs": [],
   "source": [
    "import pandas as pd\n",
    "from sklearn.preprocessing import LabelEncoder\n",
    "from numpy import array\n",
    "\n",
    "bend_df = pd.read_csv(\"bend.csv\")\n",
    "X = bend_df.Value\n",
    "le = LabelEncoder()\n",
    "Y = le.fit_transform(bend_df.State)"
   ]
  },
  {
   "cell_type": "code",
   "execution_count": 2,
   "metadata": {},
   "outputs": [],
   "source": [
    "from sklearn.model_selection import train_test_split\n",
    "X_train,X_test, Y_train,Y_test = train_test_split(X, Y,train_size=0.7,random_state=1)\n",
    "\n",
    "#model.fit requires [[], [], []] format.\n",
    "X_train = array(X_train).reshape(-1, 1) \n",
    "X_test = array(X_test).reshape(-1, 1) "
   ]
  },
  {
   "cell_type": "code",
   "execution_count": 3,
   "metadata": {},
   "outputs": [],
   "source": [
    "from sklearn.ensemble import RandomForestClassifier\n",
    "from sklearn.svm import SVC, LinearSVC\n",
    "from sklearn.naive_bayes import GaussianNB\n",
    "from sklearn.neighbors import KNeighborsClassifier\n",
    "from sklearn.tree import DecisionTreeClassifier\n",
    "\n",
    "models = []\n",
    "\n",
    "models.append(('Support Vector Machine', SVC(kernel='rbf', gamma = 0.002)))"
   ]
  },
  {
   "cell_type": "code",
   "execution_count": 4,
   "metadata": {},
   "outputs": [
    {
     "name": "stdout",
     "output_type": "stream",
     "text": [
      "Support Vector Machine\n",
      "Fitting Done\n"
     ]
    }
   ],
   "source": [
    "for name, model in models:\n",
    "    print(name)\n",
    "    \n",
    "    model.fit(X_train,Y_train)\n",
    "    \n",
    "    print(\"Fitting Done\")\n",
    "    \n",
    "    Y_pred = model.predict(X_test)\n",
    "    "
   ]
  },
  {
   "cell_type": "code",
   "execution_count": 21,
   "metadata": {},
   "outputs": [
    {
     "name": "stderr",
     "output_type": "stream",
     "text": [
      "C:\\Users\\holme\\.conda\\envs\\ml_cpu\\lib\\site-packages\\mlxtend\\plotting\\decision_regions.py:249: MatplotlibDeprecationWarning: Passing unsupported keyword arguments to axis() will raise a TypeError in 3.3.\n",
      "  ax.axis(xmin=xx.min(), xmax=xx.max(), y_min=yy.min(), y_max=yy.max())\n"
     ]
    },
    {
     "data": {
      "text/plain": [
       "<matplotlib.legend.Legend at 0x1fa42e94e10>"
      ]
     },
     "execution_count": 21,
     "metadata": {},
     "output_type": "execute_result"
    },
    {
     "data": {
      "image/png": "[encoded data removed]",
      "text/plain": [
       "<Figure size 432x288 with 1 Axes>"
      ]
     },
     "metadata": {
      "needs_background": "light"
     },
     "output_type": "display_data"
    }
   ],
   "source": [
    "from mlxtend.plotting import plot_decision_regions\n",
    "import matplotlib.pyplot as plt\n",
    "\n",
    "scatter_kwargs = {'s': 50, 'edgecolor': 'black', 'alpha': 0.7}\n",
    "contourf_kwargs = {'alpha': 0.2}\n",
    "scatter_highlight_kwargs = {'s': 100, 'label': 'Test data', 'alpha': 0.7}\n",
    "\n",
    "ax = plot_decision_regions(X = X_train, \n",
    "                      y = Y_train,\n",
    "#                       X_highlight=X_test,\n",
    "                      clf = model,\n",
    "                      scatter_kwargs=scatter_kwargs,\n",
    "                      contourf_kwargs=contourf_kwargs,\n",
    "                      scatter_highlight_kwargs=scatter_highlight_kwargs,\n",
    "                      legend = 2)\n",
    "handles, labels = ax.get_legend_handles_labels()\n",
    "ax.legend(handles, \n",
    "          ['Both joints', 'Second Joint', 'No bend'], \n",
    "           framealpha=0.3, scatterpoints=1)\n",
    "# plt.axis(xmin = 62, xmax = 105)"
   ]
  },
  {
   "cell_type": "code",
   "execution_count": 6,
   "metadata": {},
   "outputs": [
    {
     "data": {
      "text/plain": [
       "0.8444444444444444"
      ]
     },
     "execution_count": 6,
     "metadata": {},
     "output_type": "execute_result"
    }
   ],
   "source": [
    "#Without cross validation\n",
    "from sklearn.metrics import accuracy_score\n",
    "accuracy_score(Y_test, Y_pred)"
   ]
  },
  {
   "cell_type": "code",
   "execution_count": null,
   "metadata": {},
   "outputs": [],
   "source": []
  }
 ],
 "metadata": {
  "kernelspec": {
   "display_name": "Python 3",
   "language": "python",
   "name": "python3"
  },
  "language_info": {
   "codemirror_mode": {
    "name": "ipython",
    "version": 3
   },
   "file_extension": ".py",
   "mimetype": "text/x-python",
   "name": "python",
   "nbconvert_exporter": "python",
   "pygments_lexer": "ipython3",
   "version": "3.6.10"
  }
 },
 "nbformat": 4,
 "nbformat_minor": 4
}
